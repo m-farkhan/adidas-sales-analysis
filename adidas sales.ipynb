{
 "cells": [
  {
   "cell_type": "code",
   "execution_count": 1,
   "id": "551deb87",
   "metadata": {},
   "outputs": [],
   "source": [
    "# Import Library\n",
    "import pandas as pd\n",
    "import seaborn as sns\n",
    "import matplotlib.pyplot as plt"
   ]
  },
  {
   "cell_type": "code",
   "execution_count": 2,
   "id": "7da207fb",
   "metadata": {},
   "outputs": [],
   "source": [
    "# Reading Excel files into DataFrame\n",
    "df = pd.read_excel(r'C:\\Users\\muham\\OneDrive\\Dokumen\\DataAnalisis\\data\\Book1.xlsx')"
   ]
  },
  {
   "cell_type": "code",
   "execution_count": 3,
   "id": "1fc99cd3",
   "metadata": {},
   "outputs": [
    {
     "name": "stdout",
     "output_type": "stream",
     "text": [
      "<class 'pandas.core.frame.DataFrame'>\n",
      "RangeIndex: 9648 entries, 0 to 9647\n",
      "Data columns (total 13 columns):\n",
      " #   Column            Non-Null Count  Dtype         \n",
      "---  ------            --------------  -----         \n",
      " 0   Retailer          9648 non-null   object        \n",
      " 1   Retailer ID       9648 non-null   int64         \n",
      " 2   Invoice Date      9648 non-null   datetime64[ns]\n",
      " 3   Region            9648 non-null   object        \n",
      " 4   State             9648 non-null   object        \n",
      " 5   City              9648 non-null   object        \n",
      " 6   Product           9648 non-null   object        \n",
      " 7   Price per Unit    9648 non-null   float64       \n",
      " 8   Units Sold        9648 non-null   int64         \n",
      " 9   Total Sales       9648 non-null   float64       \n",
      " 10  Operating Profit  9648 non-null   float64       \n",
      " 11  Operating Margin  9648 non-null   float64       \n",
      " 12  Sales Method      9648 non-null   object        \n",
      "dtypes: datetime64[ns](1), float64(4), int64(2), object(6)\n",
      "memory usage: 980.0+ KB\n"
     ]
    }
   ],
   "source": [
    "# Displays summary information about a DataFrame\n",
    "df.info()"
   ]
  },
  {
   "cell_type": "code",
   "execution_count": 4,
   "id": "9999f85b",
   "metadata": {},
   "outputs": [
    {
     "data": {
      "text/html": [
       "<div>\n",
       "<style scoped>\n",
       "    .dataframe tbody tr th:only-of-type {\n",
       "        vertical-align: middle;\n",
       "    }\n",
       "\n",
       "    .dataframe tbody tr th {\n",
       "        vertical-align: top;\n",
       "    }\n",
       "\n",
       "    .dataframe thead th {\n",
       "        text-align: right;\n",
       "    }\n",
       "</style>\n",
       "<table border=\"1\" class=\"dataframe\">\n",
       "  <thead>\n",
       "    <tr style=\"text-align: right;\">\n",
       "      <th></th>\n",
       "      <th>Retailer</th>\n",
       "      <th>Retailer ID</th>\n",
       "      <th>Invoice Date</th>\n",
       "      <th>Region</th>\n",
       "      <th>State</th>\n",
       "      <th>City</th>\n",
       "      <th>Product</th>\n",
       "      <th>Price per Unit</th>\n",
       "      <th>Units Sold</th>\n",
       "      <th>Total Sales</th>\n",
       "      <th>Operating Profit</th>\n",
       "      <th>Operating Margin</th>\n",
       "      <th>Sales Method</th>\n",
       "    </tr>\n",
       "  </thead>\n",
       "  <tbody>\n",
       "    <tr>\n",
       "      <th>0</th>\n",
       "      <td>Foot Locker</td>\n",
       "      <td>1185732</td>\n",
       "      <td>2020-01-01</td>\n",
       "      <td>Northeast</td>\n",
       "      <td>New York</td>\n",
       "      <td>New York</td>\n",
       "      <td>Men's Street Footwear</td>\n",
       "      <td>50.0</td>\n",
       "      <td>1200</td>\n",
       "      <td>600000.0</td>\n",
       "      <td>300000.0</td>\n",
       "      <td>0.50</td>\n",
       "      <td>In-store</td>\n",
       "    </tr>\n",
       "    <tr>\n",
       "      <th>1</th>\n",
       "      <td>Foot Locker</td>\n",
       "      <td>1185732</td>\n",
       "      <td>2020-01-02</td>\n",
       "      <td>Northeast</td>\n",
       "      <td>New York</td>\n",
       "      <td>New York</td>\n",
       "      <td>Men's Athletic Footwear</td>\n",
       "      <td>50.0</td>\n",
       "      <td>1000</td>\n",
       "      <td>500000.0</td>\n",
       "      <td>150000.0</td>\n",
       "      <td>0.30</td>\n",
       "      <td>In-store</td>\n",
       "    </tr>\n",
       "    <tr>\n",
       "      <th>2</th>\n",
       "      <td>Foot Locker</td>\n",
       "      <td>1185732</td>\n",
       "      <td>2020-01-03</td>\n",
       "      <td>Northeast</td>\n",
       "      <td>New York</td>\n",
       "      <td>New York</td>\n",
       "      <td>Women's Street Footwear</td>\n",
       "      <td>40.0</td>\n",
       "      <td>1000</td>\n",
       "      <td>400000.0</td>\n",
       "      <td>140000.0</td>\n",
       "      <td>0.35</td>\n",
       "      <td>In-store</td>\n",
       "    </tr>\n",
       "    <tr>\n",
       "      <th>3</th>\n",
       "      <td>Foot Locker</td>\n",
       "      <td>1185732</td>\n",
       "      <td>2020-01-04</td>\n",
       "      <td>Northeast</td>\n",
       "      <td>New York</td>\n",
       "      <td>New York</td>\n",
       "      <td>Women's Athletic Footwear</td>\n",
       "      <td>45.0</td>\n",
       "      <td>850</td>\n",
       "      <td>382500.0</td>\n",
       "      <td>133875.0</td>\n",
       "      <td>0.35</td>\n",
       "      <td>In-store</td>\n",
       "    </tr>\n",
       "    <tr>\n",
       "      <th>4</th>\n",
       "      <td>Foot Locker</td>\n",
       "      <td>1185732</td>\n",
       "      <td>2020-01-05</td>\n",
       "      <td>Northeast</td>\n",
       "      <td>New York</td>\n",
       "      <td>New York</td>\n",
       "      <td>Men's Apparel</td>\n",
       "      <td>60.0</td>\n",
       "      <td>900</td>\n",
       "      <td>540000.0</td>\n",
       "      <td>162000.0</td>\n",
       "      <td>0.30</td>\n",
       "      <td>In-store</td>\n",
       "    </tr>\n",
       "  </tbody>\n",
       "</table>\n",
       "</div>"
      ],
      "text/plain": [
       "      Retailer  Retailer ID Invoice Date     Region     State      City  \\\n",
       "0  Foot Locker      1185732   2020-01-01  Northeast  New York  New York   \n",
       "1  Foot Locker      1185732   2020-01-02  Northeast  New York  New York   \n",
       "2  Foot Locker      1185732   2020-01-03  Northeast  New York  New York   \n",
       "3  Foot Locker      1185732   2020-01-04  Northeast  New York  New York   \n",
       "4  Foot Locker      1185732   2020-01-05  Northeast  New York  New York   \n",
       "\n",
       "                     Product  Price per Unit  Units Sold  Total Sales  \\\n",
       "0      Men's Street Footwear            50.0        1200     600000.0   \n",
       "1    Men's Athletic Footwear            50.0        1000     500000.0   \n",
       "2    Women's Street Footwear            40.0        1000     400000.0   \n",
       "3  Women's Athletic Footwear            45.0         850     382500.0   \n",
       "4              Men's Apparel            60.0         900     540000.0   \n",
       "\n",
       "   Operating Profit  Operating Margin Sales Method  \n",
       "0          300000.0              0.50     In-store  \n",
       "1          150000.0              0.30     In-store  \n",
       "2          140000.0              0.35     In-store  \n",
       "3          133875.0              0.35     In-store  \n",
       "4          162000.0              0.30     In-store  "
      ]
     },
     "execution_count": 4,
     "metadata": {},
     "output_type": "execute_result"
    }
   ],
   "source": [
    "# Viewing an initial sample of data in a DataFrame\n",
    "df.head()"
   ]
  },
  {
   "cell_type": "code",
   "execution_count": 5,
   "id": "9210deb4",
   "metadata": {},
   "outputs": [
    {
     "data": {
      "text/plain": [
       "Retailer            0\n",
       "Retailer ID         0\n",
       "Invoice Date        0\n",
       "Region              0\n",
       "State               0\n",
       "City                0\n",
       "Product             0\n",
       "Price per Unit      0\n",
       "Units Sold          0\n",
       "Total Sales         0\n",
       "Operating Profit    0\n",
       "Operating Margin    0\n",
       "Sales Method        0\n",
       "dtype: int64"
      ]
     },
     "execution_count": 5,
     "metadata": {},
     "output_type": "execute_result"
    }
   ],
   "source": [
    "# Count the number of null values ​​in each column\n",
    "df.isnull().sum()"
   ]
  },
  {
   "cell_type": "code",
   "execution_count": 6,
   "id": "e4a93976",
   "metadata": {},
   "outputs": [
    {
     "data": {
      "text/plain": [
       "np.int64(0)"
      ]
     },
     "execution_count": 6,
     "metadata": {},
     "output_type": "execute_result"
    }
   ],
   "source": [
    "# Check for duplicates\n",
    "df.duplicated().sum()"
   ]
  },
  {
   "cell_type": "code",
   "execution_count": 7,
   "id": "4ce40bf3",
   "metadata": {},
   "outputs": [
    {
     "data": {
      "text/plain": [
       "Retailer         6\n",
       "Region           5\n",
       "State           50\n",
       "City            52\n",
       "Product          6\n",
       "Sales Method     3\n",
       "dtype: int64"
      ]
     },
     "execution_count": 7,
     "metadata": {},
     "output_type": "execute_result"
    }
   ],
   "source": [
    "# Displays the number of unique values ​​for a column of type object.\n",
    "object_cols = df.select_dtypes(include='object').columns\n",
    "df[object_cols].nunique()"
   ]
  },
  {
   "cell_type": "code",
   "execution_count": 8,
   "id": "7112ef8a",
   "metadata": {},
   "outputs": [],
   "source": [
    "# Change the data type of some columns to 'Category'\n",
    "cols_to_category = ['Retailer', 'Region', 'State', 'City', 'Product', 'Sales Method']\n",
    "df[cols_to_category] = df[cols_to_category].astype('category')"
   ]
  },
  {
   "cell_type": "code",
   "execution_count": 9,
   "id": "61ae3052",
   "metadata": {},
   "outputs": [
    {
     "name": "stdout",
     "output_type": "stream",
     "text": [
      "Retailer:\n",
      "['Foot Locker', 'Walmart', 'Sports Direct', 'West Gear', 'Kohl's', 'Amazon']\n",
      "Categories (6, object): ['Amazon', 'Foot Locker', 'Kohl's', 'Sports Direct', 'Walmart', 'West Gear']\n",
      "\n",
      "Region:\n",
      "['Northeast', 'South', 'West', 'Midwest', 'Southeast']\n",
      "Categories (5, object): ['Midwest', 'Northeast', 'South', 'Southeast', 'West']\n",
      "\n",
      "State:\n",
      "['New York', 'Texas', 'California', 'Illinois', 'Pennsylvania', ..., 'Connecticut', 'Rhode Island', 'Massachusetts', 'Vermont', 'New Hampshire']\n",
      "Length: 50\n",
      "Categories (50, object): ['Alabama', 'Alaska', 'Arizona', 'Arkansas', ..., 'Washington', 'West Virginia', 'Wisconsin', 'Wyoming']\n",
      "\n",
      "City:\n",
      "['New York', 'Houston', 'San Francisco', 'Los Angeles', 'Chicago', ..., 'Hartford', 'Providence', 'Boston', 'Burlington', 'Manchester']\n",
      "Length: 52\n",
      "Categories (52, object): ['Albany', 'Albuquerque', 'Anchorage', 'Atlanta', ..., 'Sioux Falls', 'St. Louis', 'Wichita', 'Wilmington']\n",
      "\n",
      "Product:\n",
      "['Men's Street Footwear', 'Men's Athletic Footwear', 'Women's Street Footwear', 'Women's Athletic Footwear', 'Men's Apparel', 'Women's Apparel']\n",
      "Categories (6, object): ['Men's Apparel', 'Men's Athletic Footwear', 'Men's Street Footwear', 'Women's Apparel', 'Women's Athletic Footwear', 'Women's Street Footwear']\n",
      "\n",
      "Sales Method:\n",
      "['In-store', 'Outlet', 'Online']\n",
      "Categories (3, object): ['In-store', 'Online', 'Outlet']\n",
      "\n"
     ]
    }
   ],
   "source": [
    "# Iterate through each categorical column and display its unique values.\n",
    "for col in cols_to_category:\n",
    "    print(f\"{col}:\\n{df[col].unique()}\\n\")"
   ]
  },
  {
   "cell_type": "code",
   "execution_count": 10,
   "id": "ed98a7c6",
   "metadata": {},
   "outputs": [],
   "source": [
    "# Removing the 'Retailer ID' column from the DataFrame\n",
    "df.drop(columns='Retailer ID', inplace=True)"
   ]
  },
  {
   "cell_type": "markdown",
   "id": "ec9ed180",
   "metadata": {},
   "source": [
    "Removing the 'Retailer ID' column because it is not needed"
   ]
  },
  {
   "cell_type": "code",
   "execution_count": 11,
   "id": "ec0ed74c",
   "metadata": {},
   "outputs": [
    {
     "data": {
      "text/html": [
       "<div>\n",
       "<style scoped>\n",
       "    .dataframe tbody tr th:only-of-type {\n",
       "        vertical-align: middle;\n",
       "    }\n",
       "\n",
       "    .dataframe tbody tr th {\n",
       "        vertical-align: top;\n",
       "    }\n",
       "\n",
       "    .dataframe thead th {\n",
       "        text-align: right;\n",
       "    }\n",
       "</style>\n",
       "<table border=\"1\" class=\"dataframe\">\n",
       "  <thead>\n",
       "    <tr style=\"text-align: right;\">\n",
       "      <th></th>\n",
       "      <th>Retailer</th>\n",
       "      <th>Invoice Date</th>\n",
       "      <th>Region</th>\n",
       "      <th>State</th>\n",
       "      <th>City</th>\n",
       "      <th>Product</th>\n",
       "      <th>Price per Unit</th>\n",
       "      <th>Units Sold</th>\n",
       "      <th>Total Sales</th>\n",
       "      <th>Operating Profit</th>\n",
       "      <th>Operating Margin</th>\n",
       "      <th>Sales Method</th>\n",
       "    </tr>\n",
       "  </thead>\n",
       "  <tbody>\n",
       "    <tr>\n",
       "      <th>0</th>\n",
       "      <td>Foot Locker</td>\n",
       "      <td>2020-01-01</td>\n",
       "      <td>Northeast</td>\n",
       "      <td>New York</td>\n",
       "      <td>New York</td>\n",
       "      <td>Men's Street Footwear</td>\n",
       "      <td>50.0</td>\n",
       "      <td>1200</td>\n",
       "      <td>600000.0</td>\n",
       "      <td>300000.0</td>\n",
       "      <td>0.50</td>\n",
       "      <td>In-store</td>\n",
       "    </tr>\n",
       "    <tr>\n",
       "      <th>1</th>\n",
       "      <td>Foot Locker</td>\n",
       "      <td>2020-01-02</td>\n",
       "      <td>Northeast</td>\n",
       "      <td>New York</td>\n",
       "      <td>New York</td>\n",
       "      <td>Men's Athletic Footwear</td>\n",
       "      <td>50.0</td>\n",
       "      <td>1000</td>\n",
       "      <td>500000.0</td>\n",
       "      <td>150000.0</td>\n",
       "      <td>0.30</td>\n",
       "      <td>In-store</td>\n",
       "    </tr>\n",
       "    <tr>\n",
       "      <th>2</th>\n",
       "      <td>Foot Locker</td>\n",
       "      <td>2020-01-03</td>\n",
       "      <td>Northeast</td>\n",
       "      <td>New York</td>\n",
       "      <td>New York</td>\n",
       "      <td>Women's Street Footwear</td>\n",
       "      <td>40.0</td>\n",
       "      <td>1000</td>\n",
       "      <td>400000.0</td>\n",
       "      <td>140000.0</td>\n",
       "      <td>0.35</td>\n",
       "      <td>In-store</td>\n",
       "    </tr>\n",
       "    <tr>\n",
       "      <th>3</th>\n",
       "      <td>Foot Locker</td>\n",
       "      <td>2020-01-04</td>\n",
       "      <td>Northeast</td>\n",
       "      <td>New York</td>\n",
       "      <td>New York</td>\n",
       "      <td>Women's Athletic Footwear</td>\n",
       "      <td>45.0</td>\n",
       "      <td>850</td>\n",
       "      <td>382500.0</td>\n",
       "      <td>133875.0</td>\n",
       "      <td>0.35</td>\n",
       "      <td>In-store</td>\n",
       "    </tr>\n",
       "    <tr>\n",
       "      <th>4</th>\n",
       "      <td>Foot Locker</td>\n",
       "      <td>2020-01-05</td>\n",
       "      <td>Northeast</td>\n",
       "      <td>New York</td>\n",
       "      <td>New York</td>\n",
       "      <td>Men's Apparel</td>\n",
       "      <td>60.0</td>\n",
       "      <td>900</td>\n",
       "      <td>540000.0</td>\n",
       "      <td>162000.0</td>\n",
       "      <td>0.30</td>\n",
       "      <td>In-store</td>\n",
       "    </tr>\n",
       "  </tbody>\n",
       "</table>\n",
       "</div>"
      ],
      "text/plain": [
       "      Retailer Invoice Date     Region     State      City  \\\n",
       "0  Foot Locker   2020-01-01  Northeast  New York  New York   \n",
       "1  Foot Locker   2020-01-02  Northeast  New York  New York   \n",
       "2  Foot Locker   2020-01-03  Northeast  New York  New York   \n",
       "3  Foot Locker   2020-01-04  Northeast  New York  New York   \n",
       "4  Foot Locker   2020-01-05  Northeast  New York  New York   \n",
       "\n",
       "                     Product  Price per Unit  Units Sold  Total Sales  \\\n",
       "0      Men's Street Footwear            50.0        1200     600000.0   \n",
       "1    Men's Athletic Footwear            50.0        1000     500000.0   \n",
       "2    Women's Street Footwear            40.0        1000     400000.0   \n",
       "3  Women's Athletic Footwear            45.0         850     382500.0   \n",
       "4              Men's Apparel            60.0         900     540000.0   \n",
       "\n",
       "   Operating Profit  Operating Margin Sales Method  \n",
       "0          300000.0              0.50     In-store  \n",
       "1          150000.0              0.30     In-store  \n",
       "2          140000.0              0.35     In-store  \n",
       "3          133875.0              0.35     In-store  \n",
       "4          162000.0              0.30     In-store  "
      ]
     },
     "execution_count": 11,
     "metadata": {},
     "output_type": "execute_result"
    }
   ],
   "source": [
    "df.head()"
   ]
  },
  {
   "cell_type": "code",
   "execution_count": 12,
   "id": "fa615143",
   "metadata": {},
   "outputs": [
    {
     "data": {
      "text/plain": [
       "count    9648.000000\n",
       "mean      256.930037\n",
       "std       214.252030\n",
       "min         0.000000\n",
       "25%       106.000000\n",
       "50%       176.000000\n",
       "75%       350.000000\n",
       "max      1275.000000\n",
       "Name: Units Sold, dtype: float64"
      ]
     },
     "execution_count": 12,
     "metadata": {},
     "output_type": "execute_result"
    }
   ],
   "source": [
    "# Displaying descriptive statistics for the 'Units Sold' column\n",
    "df['Units Sold'].describe()"
   ]
  },
  {
   "cell_type": "code",
   "execution_count": 13,
   "id": "5248f8c8",
   "metadata": {},
   "outputs": [
    {
     "data": {
      "text/html": [
       "<div>\n",
       "<style scoped>\n",
       "    .dataframe tbody tr th:only-of-type {\n",
       "        vertical-align: middle;\n",
       "    }\n",
       "\n",
       "    .dataframe tbody tr th {\n",
       "        vertical-align: top;\n",
       "    }\n",
       "\n",
       "    .dataframe thead th {\n",
       "        text-align: right;\n",
       "    }\n",
       "</style>\n",
       "<table border=\"1\" class=\"dataframe\">\n",
       "  <thead>\n",
       "    <tr style=\"text-align: right;\">\n",
       "      <th></th>\n",
       "      <th>Retailer</th>\n",
       "      <th>Invoice Date</th>\n",
       "      <th>Region</th>\n",
       "      <th>State</th>\n",
       "      <th>City</th>\n",
       "      <th>Product</th>\n",
       "      <th>Price per Unit</th>\n",
       "      <th>Units Sold</th>\n",
       "      <th>Total Sales</th>\n",
       "      <th>Operating Profit</th>\n",
       "      <th>Operating Margin</th>\n",
       "      <th>Sales Method</th>\n",
       "    </tr>\n",
       "  </thead>\n",
       "  <tbody>\n",
       "    <tr>\n",
       "      <th>1019</th>\n",
       "      <td>Foot Locker</td>\n",
       "      <td>2021-06-05</td>\n",
       "      <td>Midwest</td>\n",
       "      <td>Nebraska</td>\n",
       "      <td>Omaha</td>\n",
       "      <td>Women's Athletic Footwear</td>\n",
       "      <td>35.0</td>\n",
       "      <td>0</td>\n",
       "      <td>0.0</td>\n",
       "      <td>0.0</td>\n",
       "      <td>0.40</td>\n",
       "      <td>Outlet</td>\n",
       "    </tr>\n",
       "    <tr>\n",
       "      <th>1025</th>\n",
       "      <td>Foot Locker</td>\n",
       "      <td>2021-06-11</td>\n",
       "      <td>Midwest</td>\n",
       "      <td>Nebraska</td>\n",
       "      <td>Omaha</td>\n",
       "      <td>Women's Athletic Footwear</td>\n",
       "      <td>30.0</td>\n",
       "      <td>0</td>\n",
       "      <td>0.0</td>\n",
       "      <td>0.0</td>\n",
       "      <td>0.40</td>\n",
       "      <td>Outlet</td>\n",
       "    </tr>\n",
       "    <tr>\n",
       "      <th>4907</th>\n",
       "      <td>Foot Locker</td>\n",
       "      <td>2021-06-05</td>\n",
       "      <td>Midwest</td>\n",
       "      <td>Nebraska</td>\n",
       "      <td>Omaha</td>\n",
       "      <td>Women's Athletic Footwear</td>\n",
       "      <td>33.0</td>\n",
       "      <td>0</td>\n",
       "      <td>0.0</td>\n",
       "      <td>0.0</td>\n",
       "      <td>0.55</td>\n",
       "      <td>Online</td>\n",
       "    </tr>\n",
       "    <tr>\n",
       "      <th>4913</th>\n",
       "      <td>Foot Locker</td>\n",
       "      <td>2021-06-11</td>\n",
       "      <td>Midwest</td>\n",
       "      <td>Nebraska</td>\n",
       "      <td>Omaha</td>\n",
       "      <td>Women's Athletic Footwear</td>\n",
       "      <td>27.0</td>\n",
       "      <td>0</td>\n",
       "      <td>0.0</td>\n",
       "      <td>0.0</td>\n",
       "      <td>0.53</td>\n",
       "      <td>Online</td>\n",
       "    </tr>\n",
       "  </tbody>\n",
       "</table>\n",
       "</div>"
      ],
      "text/plain": [
       "         Retailer Invoice Date   Region     State   City  \\\n",
       "1019  Foot Locker   2021-06-05  Midwest  Nebraska  Omaha   \n",
       "1025  Foot Locker   2021-06-11  Midwest  Nebraska  Omaha   \n",
       "4907  Foot Locker   2021-06-05  Midwest  Nebraska  Omaha   \n",
       "4913  Foot Locker   2021-06-11  Midwest  Nebraska  Omaha   \n",
       "\n",
       "                        Product  Price per Unit  Units Sold  Total Sales  \\\n",
       "1019  Women's Athletic Footwear            35.0           0          0.0   \n",
       "1025  Women's Athletic Footwear            30.0           0          0.0   \n",
       "4907  Women's Athletic Footwear            33.0           0          0.0   \n",
       "4913  Women's Athletic Footwear            27.0           0          0.0   \n",
       "\n",
       "      Operating Profit  Operating Margin Sales Method  \n",
       "1019               0.0              0.40       Outlet  \n",
       "1025               0.0              0.40       Outlet  \n",
       "4907               0.0              0.55       Online  \n",
       "4913               0.0              0.53       Online  "
      ]
     },
     "execution_count": 13,
     "metadata": {},
     "output_type": "execute_result"
    }
   ],
   "source": [
    "# Viewing rows where the number of units sold is 0\n",
    "df[df['Units Sold'] == 0]"
   ]
  },
  {
   "cell_type": "code",
   "execution_count": 14,
   "id": "25610657",
   "metadata": {},
   "outputs": [],
   "source": [
    "# Filtering the DataFrame to include only rows where 'Units Sold' is greater than 0\n",
    "df = df[df['Units Sold'] > 0]"
   ]
  },
  {
   "cell_type": "markdown",
   "id": "0de232c1",
   "metadata": {},
   "source": [
    "Products with no sales are not needed"
   ]
  },
  {
   "cell_type": "code",
   "execution_count": 15,
   "id": "90de7582",
   "metadata": {},
   "outputs": [
    {
     "data": {
      "text/html": [
       "<div>\n",
       "<style scoped>\n",
       "    .dataframe tbody tr th:only-of-type {\n",
       "        vertical-align: middle;\n",
       "    }\n",
       "\n",
       "    .dataframe tbody tr th {\n",
       "        vertical-align: top;\n",
       "    }\n",
       "\n",
       "    .dataframe thead th {\n",
       "        text-align: right;\n",
       "    }\n",
       "</style>\n",
       "<table border=\"1\" class=\"dataframe\">\n",
       "  <thead>\n",
       "    <tr style=\"text-align: right;\">\n",
       "      <th></th>\n",
       "      <th>Retailer</th>\n",
       "      <th>Invoice Date</th>\n",
       "      <th>Region</th>\n",
       "      <th>State</th>\n",
       "      <th>City</th>\n",
       "      <th>Product</th>\n",
       "      <th>Price per Unit</th>\n",
       "      <th>Units Sold</th>\n",
       "      <th>Total Sales</th>\n",
       "      <th>Operating Profit</th>\n",
       "      <th>Operating Margin</th>\n",
       "      <th>Sales Method</th>\n",
       "    </tr>\n",
       "  </thead>\n",
       "  <tbody>\n",
       "  </tbody>\n",
       "</table>\n",
       "</div>"
      ],
      "text/plain": [
       "Empty DataFrame\n",
       "Columns: [Retailer, Invoice Date, Region, State, City, Product, Price per Unit, Units Sold, Total Sales, Operating Profit, Operating Margin, Sales Method]\n",
       "Index: []"
      ]
     },
     "execution_count": 15,
     "metadata": {},
     "output_type": "execute_result"
    }
   ],
   "source": [
    "# Checking again for rows where 'Units Sold' is equal to 0\n",
    "df[df['Units Sold'] == 0]"
   ]
  },
  {
   "cell_type": "code",
   "execution_count": 16,
   "id": "04586430",
   "metadata": {},
   "outputs": [],
   "source": [
    "# Changing the data type of the 'Price per Unit' column to integer\n",
    "df['Price per Unit'] = df['Price per Unit'].astype(int)"
   ]
  },
  {
   "cell_type": "code",
   "execution_count": 17,
   "id": "3babf2ac",
   "metadata": {},
   "outputs": [],
   "source": [
    "# Converting 'Operating Margin' to an integer percentage\n",
    "df['Operating Margin'] = (df['Operating Margin'] * 100).astype(int)"
   ]
  },
  {
   "cell_type": "code",
   "execution_count": 18,
   "id": "281c3a2f",
   "metadata": {},
   "outputs": [],
   "source": [
    "# Calculating Total Sales\n",
    "df['Total Sales'] = df['Price per Unit'] * df['Units Sold']"
   ]
  },
  {
   "cell_type": "code",
   "execution_count": 19,
   "id": "00fc3431",
   "metadata": {},
   "outputs": [],
   "source": [
    "# Calculating Operating Profit based on Operating Margin and Total Sales\n",
    "df['Operating Profit'] = (df['Operating Margin'] / 100) * df['Total Sales']"
   ]
  },
  {
   "cell_type": "code",
   "execution_count": 20,
   "id": "c0939596",
   "metadata": {},
   "outputs": [],
   "source": [
    "# Changing the data type of the 'Operating Profit' column to integer\n",
    "df['Operating Profit'] = df['Operating Profit'].astype(int)"
   ]
  },
  {
   "cell_type": "code",
   "execution_count": 21,
   "id": "6bda5507",
   "metadata": {},
   "outputs": [
    {
     "name": "stderr",
     "output_type": "stream",
     "text": [
      "C:\\Users\\muham\\AppData\\Local\\Temp\\ipykernel_23960\\2032883643.py:2: FutureWarning: The behavior of Series.replace (and DataFrame.replace) with CategoricalDtype is deprecated. In a future version, replace will only be used for cases that preserve the categories. To change the categories, use ser.cat.rename_categories instead.\n",
      "  df['City'] = df['City'].replace('New York','New York City')\n"
     ]
    }
   ],
   "source": [
    "# Renaming the city 'New York' to 'New York City\n",
    "df['City'] = df['City'].replace('New York','New York City')"
   ]
  },
  {
   "cell_type": "code",
   "execution_count": 22,
   "id": "e6d003c0",
   "metadata": {},
   "outputs": [
    {
     "data": {
      "text/html": [
       "<div>\n",
       "<style scoped>\n",
       "    .dataframe tbody tr th:only-of-type {\n",
       "        vertical-align: middle;\n",
       "    }\n",
       "\n",
       "    .dataframe tbody tr th {\n",
       "        vertical-align: top;\n",
       "    }\n",
       "\n",
       "    .dataframe thead th {\n",
       "        text-align: right;\n",
       "    }\n",
       "</style>\n",
       "<table border=\"1\" class=\"dataframe\">\n",
       "  <thead>\n",
       "    <tr style=\"text-align: right;\">\n",
       "      <th></th>\n",
       "      <th>Retailer</th>\n",
       "      <th>Invoice Date</th>\n",
       "      <th>Region</th>\n",
       "      <th>State</th>\n",
       "      <th>City</th>\n",
       "      <th>Product</th>\n",
       "      <th>Price per Unit</th>\n",
       "      <th>Units Sold</th>\n",
       "      <th>Total Sales</th>\n",
       "      <th>Operating Profit</th>\n",
       "      <th>Operating Margin</th>\n",
       "      <th>Sales Method</th>\n",
       "    </tr>\n",
       "  </thead>\n",
       "  <tbody>\n",
       "    <tr>\n",
       "      <th>0</th>\n",
       "      <td>Foot Locker</td>\n",
       "      <td>2020-01-01</td>\n",
       "      <td>Northeast</td>\n",
       "      <td>New York</td>\n",
       "      <td>New York City</td>\n",
       "      <td>Men's Street Footwear</td>\n",
       "      <td>50</td>\n",
       "      <td>1200</td>\n",
       "      <td>60000</td>\n",
       "      <td>30000</td>\n",
       "      <td>50</td>\n",
       "      <td>In-store</td>\n",
       "    </tr>\n",
       "    <tr>\n",
       "      <th>1</th>\n",
       "      <td>Foot Locker</td>\n",
       "      <td>2020-01-02</td>\n",
       "      <td>Northeast</td>\n",
       "      <td>New York</td>\n",
       "      <td>New York City</td>\n",
       "      <td>Men's Athletic Footwear</td>\n",
       "      <td>50</td>\n",
       "      <td>1000</td>\n",
       "      <td>50000</td>\n",
       "      <td>15000</td>\n",
       "      <td>30</td>\n",
       "      <td>In-store</td>\n",
       "    </tr>\n",
       "    <tr>\n",
       "      <th>2</th>\n",
       "      <td>Foot Locker</td>\n",
       "      <td>2020-01-03</td>\n",
       "      <td>Northeast</td>\n",
       "      <td>New York</td>\n",
       "      <td>New York City</td>\n",
       "      <td>Women's Street Footwear</td>\n",
       "      <td>40</td>\n",
       "      <td>1000</td>\n",
       "      <td>40000</td>\n",
       "      <td>14000</td>\n",
       "      <td>35</td>\n",
       "      <td>In-store</td>\n",
       "    </tr>\n",
       "    <tr>\n",
       "      <th>3</th>\n",
       "      <td>Foot Locker</td>\n",
       "      <td>2020-01-04</td>\n",
       "      <td>Northeast</td>\n",
       "      <td>New York</td>\n",
       "      <td>New York City</td>\n",
       "      <td>Women's Athletic Footwear</td>\n",
       "      <td>45</td>\n",
       "      <td>850</td>\n",
       "      <td>38250</td>\n",
       "      <td>13387</td>\n",
       "      <td>35</td>\n",
       "      <td>In-store</td>\n",
       "    </tr>\n",
       "    <tr>\n",
       "      <th>4</th>\n",
       "      <td>Foot Locker</td>\n",
       "      <td>2020-01-05</td>\n",
       "      <td>Northeast</td>\n",
       "      <td>New York</td>\n",
       "      <td>New York City</td>\n",
       "      <td>Men's Apparel</td>\n",
       "      <td>60</td>\n",
       "      <td>900</td>\n",
       "      <td>54000</td>\n",
       "      <td>16200</td>\n",
       "      <td>30</td>\n",
       "      <td>In-store</td>\n",
       "    </tr>\n",
       "    <tr>\n",
       "      <th>5</th>\n",
       "      <td>Foot Locker</td>\n",
       "      <td>2020-01-06</td>\n",
       "      <td>Northeast</td>\n",
       "      <td>New York</td>\n",
       "      <td>New York City</td>\n",
       "      <td>Women's Apparel</td>\n",
       "      <td>50</td>\n",
       "      <td>1000</td>\n",
       "      <td>50000</td>\n",
       "      <td>12500</td>\n",
       "      <td>25</td>\n",
       "      <td>In-store</td>\n",
       "    </tr>\n",
       "    <tr>\n",
       "      <th>6</th>\n",
       "      <td>Foot Locker</td>\n",
       "      <td>2020-01-07</td>\n",
       "      <td>Northeast</td>\n",
       "      <td>New York</td>\n",
       "      <td>New York City</td>\n",
       "      <td>Men's Street Footwear</td>\n",
       "      <td>50</td>\n",
       "      <td>1250</td>\n",
       "      <td>62500</td>\n",
       "      <td>31250</td>\n",
       "      <td>50</td>\n",
       "      <td>In-store</td>\n",
       "    </tr>\n",
       "    <tr>\n",
       "      <th>7</th>\n",
       "      <td>Foot Locker</td>\n",
       "      <td>2020-01-08</td>\n",
       "      <td>Northeast</td>\n",
       "      <td>New York</td>\n",
       "      <td>New York City</td>\n",
       "      <td>Men's Athletic Footwear</td>\n",
       "      <td>50</td>\n",
       "      <td>900</td>\n",
       "      <td>45000</td>\n",
       "      <td>13500</td>\n",
       "      <td>30</td>\n",
       "      <td>Outlet</td>\n",
       "    </tr>\n",
       "    <tr>\n",
       "      <th>8</th>\n",
       "      <td>Foot Locker</td>\n",
       "      <td>2020-01-21</td>\n",
       "      <td>Northeast</td>\n",
       "      <td>New York</td>\n",
       "      <td>New York City</td>\n",
       "      <td>Women's Street Footwear</td>\n",
       "      <td>40</td>\n",
       "      <td>950</td>\n",
       "      <td>38000</td>\n",
       "      <td>13300</td>\n",
       "      <td>35</td>\n",
       "      <td>Outlet</td>\n",
       "    </tr>\n",
       "    <tr>\n",
       "      <th>9</th>\n",
       "      <td>Foot Locker</td>\n",
       "      <td>2020-01-22</td>\n",
       "      <td>Northeast</td>\n",
       "      <td>New York</td>\n",
       "      <td>New York City</td>\n",
       "      <td>Women's Athletic Footwear</td>\n",
       "      <td>45</td>\n",
       "      <td>825</td>\n",
       "      <td>37125</td>\n",
       "      <td>12993</td>\n",
       "      <td>35</td>\n",
       "      <td>Outlet</td>\n",
       "    </tr>\n",
       "  </tbody>\n",
       "</table>\n",
       "</div>"
      ],
      "text/plain": [
       "      Retailer Invoice Date     Region     State           City  \\\n",
       "0  Foot Locker   2020-01-01  Northeast  New York  New York City   \n",
       "1  Foot Locker   2020-01-02  Northeast  New York  New York City   \n",
       "2  Foot Locker   2020-01-03  Northeast  New York  New York City   \n",
       "3  Foot Locker   2020-01-04  Northeast  New York  New York City   \n",
       "4  Foot Locker   2020-01-05  Northeast  New York  New York City   \n",
       "5  Foot Locker   2020-01-06  Northeast  New York  New York City   \n",
       "6  Foot Locker   2020-01-07  Northeast  New York  New York City   \n",
       "7  Foot Locker   2020-01-08  Northeast  New York  New York City   \n",
       "8  Foot Locker   2020-01-21  Northeast  New York  New York City   \n",
       "9  Foot Locker   2020-01-22  Northeast  New York  New York City   \n",
       "\n",
       "                     Product  Price per Unit  Units Sold  Total Sales  \\\n",
       "0      Men's Street Footwear              50        1200        60000   \n",
       "1    Men's Athletic Footwear              50        1000        50000   \n",
       "2    Women's Street Footwear              40        1000        40000   \n",
       "3  Women's Athletic Footwear              45         850        38250   \n",
       "4              Men's Apparel              60         900        54000   \n",
       "5            Women's Apparel              50        1000        50000   \n",
       "6      Men's Street Footwear              50        1250        62500   \n",
       "7    Men's Athletic Footwear              50         900        45000   \n",
       "8    Women's Street Footwear              40         950        38000   \n",
       "9  Women's Athletic Footwear              45         825        37125   \n",
       "\n",
       "   Operating Profit  Operating Margin Sales Method  \n",
       "0             30000                50     In-store  \n",
       "1             15000                30     In-store  \n",
       "2             14000                35     In-store  \n",
       "3             13387                35     In-store  \n",
       "4             16200                30     In-store  \n",
       "5             12500                25     In-store  \n",
       "6             31250                50     In-store  \n",
       "7             13500                30       Outlet  \n",
       "8             13300                35       Outlet  \n",
       "9             12993                35       Outlet  "
      ]
     },
     "execution_count": 22,
     "metadata": {},
     "output_type": "execute_result"
    }
   ],
   "source": [
    "df.head(10)"
   ]
  },
  {
   "cell_type": "code",
   "execution_count": 23,
   "id": "a9ca8b9d",
   "metadata": {},
   "outputs": [
    {
     "data": {
      "text/plain": [
       "Retailer                  category\n",
       "Invoice Date        datetime64[ns]\n",
       "Region                    category\n",
       "State                     category\n",
       "City                      category\n",
       "Product                   category\n",
       "Price per Unit               int64\n",
       "Units Sold                   int64\n",
       "Total Sales                  int64\n",
       "Operating Profit             int64\n",
       "Operating Margin             int64\n",
       "Sales Method              category\n",
       "dtype: object"
      ]
     },
     "execution_count": 23,
     "metadata": {},
     "output_type": "execute_result"
    }
   ],
   "source": [
    "# Displaying the data type of each column\n",
    "df.dtypes"
   ]
  },
  {
   "cell_type": "code",
   "execution_count": 24,
   "id": "c4da7c2c",
   "metadata": {},
   "outputs": [
    {
     "data": {
      "text/html": [
       "<div>\n",
       "<style scoped>\n",
       "    .dataframe tbody tr th:only-of-type {\n",
       "        vertical-align: middle;\n",
       "    }\n",
       "\n",
       "    .dataframe tbody tr th {\n",
       "        vertical-align: top;\n",
       "    }\n",
       "\n",
       "    .dataframe thead th {\n",
       "        text-align: right;\n",
       "    }\n",
       "</style>\n",
       "<table border=\"1\" class=\"dataframe\">\n",
       "  <thead>\n",
       "    <tr style=\"text-align: right;\">\n",
       "      <th></th>\n",
       "      <th>Price per Unit</th>\n",
       "      <th>Units Sold</th>\n",
       "      <th>Total Sales</th>\n",
       "      <th>Operating Profit</th>\n",
       "      <th>Operating Margin</th>\n",
       "    </tr>\n",
       "  </thead>\n",
       "  <tbody>\n",
       "    <tr>\n",
       "      <th>count</th>\n",
       "      <td>9644.000000</td>\n",
       "      <td>9644.000000</td>\n",
       "      <td>9644.000000</td>\n",
       "      <td>9644.000000</td>\n",
       "      <td>9644.000000</td>\n",
       "    </tr>\n",
       "    <tr>\n",
       "      <th>mean</th>\n",
       "      <td>45.187993</td>\n",
       "      <td>257.036603</td>\n",
       "      <td>12448.134591</td>\n",
       "      <td>4886.400664</td>\n",
       "      <td>42.223870</td>\n",
       "    </tr>\n",
       "    <tr>\n",
       "      <th>std</th>\n",
       "      <td>14.698258</td>\n",
       "      <td>214.232536</td>\n",
       "      <td>12707.259191</td>\n",
       "      <td>4859.800768</td>\n",
       "      <td>9.708986</td>\n",
       "    </tr>\n",
       "    <tr>\n",
       "      <th>min</th>\n",
       "      <td>7.000000</td>\n",
       "      <td>6.000000</td>\n",
       "      <td>160.000000</td>\n",
       "      <td>75.000000</td>\n",
       "      <td>10.000000</td>\n",
       "    </tr>\n",
       "    <tr>\n",
       "      <th>25%</th>\n",
       "      <td>35.000000</td>\n",
       "      <td>106.000000</td>\n",
       "      <td>4068.000000</td>\n",
       "      <td>1750.000000</td>\n",
       "      <td>35.000000</td>\n",
       "    </tr>\n",
       "    <tr>\n",
       "      <th>50%</th>\n",
       "      <td>45.000000</td>\n",
       "      <td>176.000000</td>\n",
       "      <td>7791.000000</td>\n",
       "      <td>3258.000000</td>\n",
       "      <td>41.000000</td>\n",
       "    </tr>\n",
       "    <tr>\n",
       "      <th>75%</th>\n",
       "      <td>55.000000</td>\n",
       "      <td>350.000000</td>\n",
       "      <td>15872.000000</td>\n",
       "      <td>6187.000000</td>\n",
       "      <td>49.000000</td>\n",
       "    </tr>\n",
       "    <tr>\n",
       "      <th>max</th>\n",
       "      <td>110.000000</td>\n",
       "      <td>1275.000000</td>\n",
       "      <td>82500.000000</td>\n",
       "      <td>39000.000000</td>\n",
       "      <td>80.000000</td>\n",
       "    </tr>\n",
       "  </tbody>\n",
       "</table>\n",
       "</div>"
      ],
      "text/plain": [
       "       Price per Unit   Units Sold   Total Sales  Operating Profit  \\\n",
       "count     9644.000000  9644.000000   9644.000000       9644.000000   \n",
       "mean        45.187993   257.036603  12448.134591       4886.400664   \n",
       "std         14.698258   214.232536  12707.259191       4859.800768   \n",
       "min          7.000000     6.000000    160.000000         75.000000   \n",
       "25%         35.000000   106.000000   4068.000000       1750.000000   \n",
       "50%         45.000000   176.000000   7791.000000       3258.000000   \n",
       "75%         55.000000   350.000000  15872.000000       6187.000000   \n",
       "max        110.000000  1275.000000  82500.000000      39000.000000   \n",
       "\n",
       "       Operating Margin  \n",
       "count       9644.000000  \n",
       "mean          42.223870  \n",
       "std            9.708986  \n",
       "min           10.000000  \n",
       "25%           35.000000  \n",
       "50%           41.000000  \n",
       "75%           49.000000  \n",
       "max           80.000000  "
      ]
     },
     "execution_count": 24,
     "metadata": {},
     "output_type": "execute_result"
    }
   ],
   "source": [
    "# Displaying descriptive statistics for numeric columns\n",
    "df.describe(include='number')"
   ]
  },
  {
   "cell_type": "code",
   "execution_count": 25,
   "id": "35cc8620",
   "metadata": {},
   "outputs": [
    {
     "data": {
      "image/png": "[encoded data removed]",
      "text/plain": [
       "<Figure size 1000x400 with 1 Axes>"
      ]
     },
     "metadata": {},
     "output_type": "display_data"
    }
   ],
   "source": [
    "# Creating boxplots to detect outliers in the 'Units Sold', 'Total Sales', and 'Operating Profit' columns\n",
    "plt.figure(figsize=(10,4))\n",
    "sns.boxplot(data=df[['Units Sold', 'Total Sales', 'Operating Profit']])\n",
    "plt.title('Boxplot untuk Deteksi Outlier')\n",
    "plt.show()"
   ]
  },
  {
   "cell_type": "markdown",
   "id": "65e58baf",
   "metadata": {},
   "source": [
    "The image shows boxplots used to detect outliers in the data for Units Sold, Total Sales, and Operating Profit. Several values appear to be far from the main distribution (outliers). However, these values still represent valid transactions, such as large-volume purchases or exceptional sales performance. Therefore, the outliers remain within a reasonable business range and can be disregarded for dashboard visualization purposes."
   ]
  },
  {
   "cell_type": "code",
   "execution_count": 26,
   "id": "be6e114b",
   "metadata": {},
   "outputs": [
    {
     "data": {
      "text/html": [
       "<div>\n",
       "<style scoped>\n",
       "    .dataframe tbody tr th:only-of-type {\n",
       "        vertical-align: middle;\n",
       "    }\n",
       "\n",
       "    .dataframe tbody tr th {\n",
       "        vertical-align: top;\n",
       "    }\n",
       "\n",
       "    .dataframe thead th {\n",
       "        text-align: right;\n",
       "    }\n",
       "</style>\n",
       "<table border=\"1\" class=\"dataframe\">\n",
       "  <thead>\n",
       "    <tr style=\"text-align: right;\">\n",
       "      <th></th>\n",
       "      <th>Retailer</th>\n",
       "      <th>Region</th>\n",
       "      <th>State</th>\n",
       "      <th>City</th>\n",
       "      <th>Product</th>\n",
       "      <th>Sales Method</th>\n",
       "    </tr>\n",
       "  </thead>\n",
       "  <tbody>\n",
       "    <tr>\n",
       "      <th>count</th>\n",
       "      <td>9644</td>\n",
       "      <td>9644</td>\n",
       "      <td>9644</td>\n",
       "      <td>9644</td>\n",
       "      <td>9644</td>\n",
       "      <td>9644</td>\n",
       "    </tr>\n",
       "    <tr>\n",
       "      <th>unique</th>\n",
       "      <td>6</td>\n",
       "      <td>5</td>\n",
       "      <td>50</td>\n",
       "      <td>52</td>\n",
       "      <td>6</td>\n",
       "      <td>3</td>\n",
       "    </tr>\n",
       "    <tr>\n",
       "      <th>top</th>\n",
       "      <td>Foot Locker</td>\n",
       "      <td>West</td>\n",
       "      <td>California</td>\n",
       "      <td>Portland</td>\n",
       "      <td>Men's Athletic Footwear</td>\n",
       "      <td>Online</td>\n",
       "    </tr>\n",
       "    <tr>\n",
       "      <th>freq</th>\n",
       "      <td>2633</td>\n",
       "      <td>2448</td>\n",
       "      <td>432</td>\n",
       "      <td>360</td>\n",
       "      <td>1610</td>\n",
       "      <td>4887</td>\n",
       "    </tr>\n",
       "  </tbody>\n",
       "</table>\n",
       "</div>"
      ],
      "text/plain": [
       "           Retailer Region       State      City                  Product  \\\n",
       "count          9644   9644        9644      9644                     9644   \n",
       "unique            6      5          50        52                        6   \n",
       "top     Foot Locker   West  California  Portland  Men's Athletic Footwear   \n",
       "freq           2633   2448         432       360                     1610   \n",
       "\n",
       "       Sales Method  \n",
       "count          9644  \n",
       "unique            3  \n",
       "top          Online  \n",
       "freq           4887  "
      ]
     },
     "execution_count": 26,
     "metadata": {},
     "output_type": "execute_result"
    }
   ],
   "source": [
    "# Displaying descriptive statistics for categorical columns\n",
    "df.select_dtypes('category').describe()"
   ]
  },
  {
   "cell_type": "code",
   "execution_count": 27,
   "id": "cd26fb24",
   "metadata": {},
   "outputs": [
    {
     "data": {
      "text/plain": [
       "Retailer\n",
       "Foot Locker      2633\n",
       "West Gear        2374\n",
       "Sports Direct    2032\n",
       "Kohl's           1030\n",
       "Amazon            949\n",
       "Walmart           626\n",
       "Name: count, dtype: int64"
      ]
     },
     "execution_count": 27,
     "metadata": {},
     "output_type": "execute_result"
    }
   ],
   "source": [
    "# Calculating the number of occurrences of each unique value in the 'Retailer' column\n",
    "df['Retailer'].value_counts()"
   ]
  },
  {
   "cell_type": "code",
   "execution_count": 28,
   "id": "5329fb0e",
   "metadata": {},
   "outputs": [
    {
     "data": {
      "text/plain": [
       "Region\n",
       "West         2448\n",
       "Northeast    2376\n",
       "Midwest      1868\n",
       "South        1728\n",
       "Southeast    1224\n",
       "Name: count, dtype: int64"
      ]
     },
     "execution_count": 28,
     "metadata": {},
     "output_type": "execute_result"
    }
   ],
   "source": [
    "# Calculating the number of occurrences of each unique value in the 'Region' column\n",
    "df['Region'].value_counts()"
   ]
  },
  {
   "cell_type": "code",
   "execution_count": 29,
   "id": "fd46ced2",
   "metadata": {},
   "outputs": [
    {
     "data": {
      "text/plain": [
       "State\n",
       "California        432\n",
       "Texas             432\n",
       "New York          360\n",
       "Florida           360\n",
       "Georgia           216\n",
       "Alabama           216\n",
       "Louisiana         216\n",
       "Connecticut       216\n",
       "Arkansas          216\n",
       "Arizona           216\n",
       "Mississippi       216\n",
       "Oklahoma          216\n",
       "New Mexico        216\n",
       "New Hampshire     216\n",
       "Massachusetts     216\n",
       "Nevada            216\n",
       "Idaho             216\n",
       "Rhode Island      216\n",
       "Oregon            216\n",
       "Utah              216\n",
       "Vermont           216\n",
       "Tennessee         216\n",
       "Virginia          216\n",
       "Pennsylvania      216\n",
       "Kentucky          144\n",
       "Delaware          144\n",
       "Alaska            144\n",
       "Kansas            144\n",
       "Iowa              144\n",
       "Indiana           144\n",
       "Hawaii            144\n",
       "Illinois          144\n",
       "Colorado          144\n",
       "Maryland          144\n",
       "Maine             144\n",
       "North Dakota      144\n",
       "New Jersey        144\n",
       "North Carolina    144\n",
       "Michigan          144\n",
       "Minnesota         144\n",
       "Missouri          144\n",
       "Montana           144\n",
       "Washington        144\n",
       "South Dakota      144\n",
       "Ohio              144\n",
       "South Carolina    144\n",
       "Wisconsin         144\n",
       "West Virginia     144\n",
       "Wyoming           144\n",
       "Nebraska          140\n",
       "Name: count, dtype: int64"
      ]
     },
     "execution_count": 29,
     "metadata": {},
     "output_type": "execute_result"
    }
   ],
   "source": [
    "# Calculating the number of occurrences of each unique value in the 'State' column\n",
    "df['State'].value_counts()"
   ]
  },
  {
   "cell_type": "code",
   "execution_count": 30,
   "id": "d62d98ca",
   "metadata": {},
   "outputs": [
    {
     "data": {
      "text/plain": [
       "City\n",
       "Portland          360\n",
       "Charleston        288\n",
       "Boise             216\n",
       "Albuquerque       216\n",
       "Burlington        216\n",
       "Dallas            216\n",
       "Boston            216\n",
       "Birmingham        216\n",
       "Phoenix           216\n",
       "Providence        216\n",
       "New York City     216\n",
       "New Orleans       216\n",
       "Jackson           216\n",
       "Manchester        216\n",
       "Little Rock       216\n",
       "Las Vegas         216\n",
       "Houston           216\n",
       "Knoxville         216\n",
       "Hartford          216\n",
       "Atlanta           216\n",
       "San Francisco     216\n",
       "Richmond          216\n",
       "Salt Lake City    216\n",
       "Los Angeles       216\n",
       "Orlando           216\n",
       "Philadelphia      216\n",
       "Oklahoma City     216\n",
       "Denver            144\n",
       "Billings          144\n",
       "Baltimore         144\n",
       "Albany            144\n",
       "Anchorage         144\n",
       "Columbus          144\n",
       "Chicago           144\n",
       "Cheyenne          144\n",
       "Charlotte         144\n",
       "Fargo             144\n",
       "Detroit           144\n",
       "Des Moines        144\n",
       "Minneapolis       144\n",
       "Indianapolis      144\n",
       "Honolulu          144\n",
       "Louisville        144\n",
       "Miami             144\n",
       "Milwaukee         144\n",
       "Newark            144\n",
       "Sioux Falls       144\n",
       "Seattle           144\n",
       "Wichita           144\n",
       "St. Louis         144\n",
       "Wilmington        144\n",
       "Omaha             140\n",
       "Name: count, dtype: int64"
      ]
     },
     "execution_count": 30,
     "metadata": {},
     "output_type": "execute_result"
    }
   ],
   "source": [
    "# Calculating the number of occurrences of each unique value in the 'City' column\n",
    "df['City'].value_counts()"
   ]
  },
  {
   "cell_type": "code",
   "execution_count": 31,
   "id": "d77026a1",
   "metadata": {},
   "outputs": [
    {
     "data": {
      "text/plain": [
       "Product\n",
       "Men's Athletic Footwear      1610\n",
       "Men's Street Footwear        1610\n",
       "Women's Street Footwear      1608\n",
       "Women's Apparel              1608\n",
       "Men's Apparel                1606\n",
       "Women's Athletic Footwear    1602\n",
       "Name: count, dtype: int64"
      ]
     },
     "execution_count": 31,
     "metadata": {},
     "output_type": "execute_result"
    }
   ],
   "source": [
    "# Calculating the number of occurrences of each unique value in the 'Product' column\n",
    "df['Product'].value_counts()"
   ]
  },
  {
   "cell_type": "code",
   "execution_count": 32,
   "id": "e1b5b347",
   "metadata": {},
   "outputs": [
    {
     "data": {
      "text/plain": [
       "Sales Method\n",
       "Online      4887\n",
       "Outlet      3017\n",
       "In-store    1740\n",
       "Name: count, dtype: int64"
      ]
     },
     "execution_count": 32,
     "metadata": {},
     "output_type": "execute_result"
    }
   ],
   "source": [
    "# Calculating the number of occurrences of each unique value in the 'Sales Method' column\n",
    "df['Sales Method'].value_counts()"
   ]
  },
  {
   "cell_type": "code",
   "execution_count": 33,
   "id": "6aaa991b",
   "metadata": {},
   "outputs": [
    {
     "data": {
      "text/plain": [
       "Retailer                  category\n",
       "Invoice Date        datetime64[ns]\n",
       "Region                    category\n",
       "State                     category\n",
       "City                      category\n",
       "Product                   category\n",
       "Price per Unit               int64\n",
       "Units Sold                   int64\n",
       "Total Sales                  int64\n",
       "Operating Profit             int64\n",
       "Operating Margin             int64\n",
       "Sales Method              category\n",
       "dtype: object"
      ]
     },
     "execution_count": 33,
     "metadata": {},
     "output_type": "execute_result"
    }
   ],
   "source": [
    "#  Displaying the data type of each column\n",
    "df.dtypes"
   ]
  },
  {
   "cell_type": "code",
   "execution_count": 34,
   "id": "869bfc8b",
   "metadata": {},
   "outputs": [
    {
     "data": {
      "image/png": "[encoded data removed]",
      "text/plain": [
       "<Figure size 1000x600 with 2 Axes>"
      ]
     },
     "metadata": {},
     "output_type": "display_data"
    }
   ],
   "source": [
    "# Taking only the numeric columns\n",
    "numeric = df.select_dtypes(include=['int64', 'float64'])\n",
    "\n",
    "# Buat heatmap korelasi\n",
    "plt.figure(figsize=(10, 6))\n",
    "sns.heatmap(numeric.corr(), annot=True, cmap='coolwarm', linewidths=0.5, fmt=\".2f\")\n",
    "plt.title('Correlation Heatmap of Numeric Variables')\n",
    "plt.xticks(rotation=45)\n",
    "plt.yticks(rotation=0)\n",
    "plt.tight_layout()\n",
    "plt.show()"
   ]
  },
  {
   "cell_type": "markdown",
   "id": "e8b6e34a",
   "metadata": {},
   "source": [
    "The correlation heatmap of numeric variables reveals predictable relationship patterns. Strong and positive correlations are evident between 'Units Sold', 'Total Sales', and 'Operating Profit', indicating that increases in sales volume correlate with increases in revenue and absolute profit. Conversely, 'Operating Margin' exhibits relatively low correlation with these absolute variables. This aligns with expectations, given that 'Operating Margin' is a percentage metric measuring the efficiency of profitability relative to revenue and does not directly correlate linearly with the absolute scale of sales. Thus, the observed correlation levels in this heatmap can be considered consistent with the nature and definition of each variable."
   ]
  },
  {
   "cell_type": "code",
   "execution_count": 302,
   "id": "c3536af0",
   "metadata": {},
   "outputs": [],
   "source": [
    "# Saving the DataFrame to a CSV file\n",
    "df.to_csv('Adidas Sales.csv', index=False)"
   ]
  }
 ],
 "metadata": {
  "kernelspec": {
   "display_name": ".venv",
   "language": "python",
   "name": "python3"
  },
  "language_info": {
   "codemirror_mode": {
    "name": "ipython",
    "version": 3
   },
   "file_extension": ".py",
   "mimetype": "text/x-python",
   "name": "python",
   "nbconvert_exporter": "python",
   "pygments_lexer": "ipython3",
   "version": "3.13.1"
  }
 },
 "nbformat": 4,
 "nbformat_minor": 5
}
